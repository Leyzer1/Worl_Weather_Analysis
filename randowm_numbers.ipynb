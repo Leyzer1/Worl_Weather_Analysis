{
 "cells": [
  {
   "cell_type": "code",
   "execution_count": 2,
   "id": "01aedf4a",
   "metadata": {},
   "outputs": [],
   "source": [
    "# Import the random module.\n",
    "import random"
   ]
  },
  {
   "cell_type": "code",
   "execution_count": 3,
   "id": "8c988095",
   "metadata": {},
   "outputs": [
    {
     "data": {
      "text/plain": [
       "-63"
      ]
     },
     "execution_count": 3,
     "metadata": {},
     "output_type": "execute_result"
    }
   ],
   "source": [
    "random.randint(-90,90)"
   ]
  },
  {
   "cell_type": "code",
   "execution_count": 4,
   "id": "66a27dad",
   "metadata": {},
   "outputs": [
    {
     "data": {
      "text/plain": [
       "0.33850791066952224"
      ]
     },
     "execution_count": 4,
     "metadata": {},
     "output_type": "execute_result"
    }
   ],
   "source": [
    "random.random()"
   ]
  },
  {
   "cell_type": "code",
   "execution_count": 8,
   "id": "7dc746e8",
   "metadata": {},
   "outputs": [
    {
     "data": {
      "text/plain": [
       "3.2256792508903716"
      ]
     },
     "execution_count": 8,
     "metadata": {},
     "output_type": "execute_result"
    }
   ],
   "source": [
    "random_number = random.randint(-90,89) + random.random()\n",
    "random_number"
   ]
  },
  {
   "cell_type": "code",
   "execution_count": 9,
   "id": "de18ad40",
   "metadata": {},
   "outputs": [],
   "source": [
    "x = 1\n",
    "latitudes = []\n",
    "while x < 11:\n",
    "    random_lat = random.randint(-90, 89) + random.random()\n",
    "    latitudes.append(random_lat)\n",
    "    x += 1"
   ]
  },
  {
   "cell_type": "code",
   "execution_count": 10,
   "id": "6a9dd2c6",
   "metadata": {},
   "outputs": [
    {
     "data": {
      "text/plain": [
       "[-17.14035665635735,\n",
       " -21.325262877532303,\n",
       " -81.69568702903275,\n",
       " 38.68746859814126,\n",
       " -7.912006984433599,\n",
       " -17.402672169169943,\n",
       " 80.19859350354174,\n",
       " 18.639745709897298,\n",
       " 11.821984789147974,\n",
       " -41.33373434424595]"
      ]
     },
     "execution_count": 10,
     "metadata": {},
     "output_type": "execute_result"
    }
   ],
   "source": [
    "latitudes"
   ]
  },
  {
   "cell_type": "code",
   "execution_count": 11,
   "id": "d9ee2ad2",
   "metadata": {},
   "outputs": [
    {
     "data": {
      "text/plain": [
       "-54"
      ]
     },
     "execution_count": 11,
     "metadata": {},
     "output_type": "execute_result"
    }
   ],
   "source": [
    "random.randrange(-90,90, step=3)"
   ]
  },
  {
   "cell_type": "code",
   "execution_count": 13,
   "id": "69985ef9",
   "metadata": {},
   "outputs": [
    {
     "data": {
      "text/plain": [
       "80.2273085976885"
      ]
     },
     "execution_count": 13,
     "metadata": {},
     "output_type": "execute_result"
    }
   ],
   "source": [
    "random.uniform(-90,90)"
   ]
  },
  {
   "cell_type": "code",
   "execution_count": 14,
   "id": "bbeea8de",
   "metadata": {},
   "outputs": [],
   "source": [
    "# Import the NumPy module.\n",
    "import numpy as np"
   ]
  },
  {
   "cell_type": "code",
   "execution_count": 16,
   "id": "51a9da85",
   "metadata": {},
   "outputs": [
    {
     "data": {
      "text/plain": [
       "-87.04520768355098"
      ]
     },
     "execution_count": 16,
     "metadata": {},
     "output_type": "execute_result"
    }
   ],
   "source": [
    "np.random.uniform(-90.000,90.000)"
   ]
  },
  {
   "cell_type": "code",
   "execution_count": 17,
   "id": "69807fe5",
   "metadata": {},
   "outputs": [
    {
     "data": {
      "text/plain": [
       "array([ 33.12645992,  54.66663899,  10.74936972,  -0.61087203,\n",
       "       -64.70037944, -75.13588201, -89.21026517, -30.67401137,\n",
       "        66.18476628, -86.23119748,  78.72293615, -75.46286694,\n",
       "       -39.06688727, -61.0746251 ,  12.40702752, -32.47785676,\n",
       "       -85.20292932,  62.20216772, -22.90209369,  21.92214553,\n",
       "       -64.08889843, -23.14725766, -16.75861648, -62.94086136,\n",
       "        40.28882899,  54.01039094,   3.05669001,  34.38783156,\n",
       "         3.69045492, -53.07144259,  33.9493345 ,  81.51210683,\n",
       "       -78.49901909,  -0.28868894, -36.19239909, -77.28439223,\n",
       "       -68.04878855,  58.88196631,   7.48412858,  88.62749544,\n",
       "       -30.58169457, -60.72277809, -21.20523723,  31.36333446,\n",
       "        17.36791879, -51.62081075,  80.73709752, -34.30396826,\n",
       "       -20.5748841 , -20.66205699])"
      ]
     },
     "execution_count": 17,
     "metadata": {},
     "output_type": "execute_result"
    }
   ],
   "source": [
    "np.random.uniform(-90.000,90.000, size=50)"
   ]
  },
  {
   "cell_type": "code",
   "execution_count": 23,
   "id": "a52e7d07",
   "metadata": {},
   "outputs": [],
   "source": [
    "# Import timeit.\n",
    "import timeit"
   ]
  },
  {
   "cell_type": "code",
   "execution_count": 24,
   "id": "fe23865c",
   "metadata": {},
   "outputs": [
    {
     "name": "stdout",
     "output_type": "stream",
     "text": [
      "13.8 µs ± 1.67 µs per loop (mean ± std. dev. of 7 runs, 100000 loops each)\n"
     ]
    }
   ],
   "source": [
    "%timeit np.random.uniform(-90.000, 90.000, size=1500)"
   ]
  },
  {
   "cell_type": "code",
   "execution_count": null,
   "id": "e713a713",
   "metadata": {},
   "outputs": [],
   "source": [
    "def latitudes(size):\n",
    "    latitudes = []\n",
    "    x = 0\n",
    "    while x < (size):\n",
    "        random_lat = random.randint(-90, 90) + random.random()\n",
    "        latitudes.append(random_lat)\n",
    "        x += 1\n",
    "    return latitudes\n",
    "# Call the function with 1500.\n",
    "%timeit latitudes(1500)"
   ]
  },
  {
   "cell_type": "code",
   "execution_count": null,
   "id": "f2f9e51b",
   "metadata": {},
   "outputs": [],
   "source": []
  }
 ],
 "metadata": {
  "kernelspec": {
   "display_name": "PythonData",
   "language": "python",
   "name": "pythondata"
  },
  "language_info": {
   "codemirror_mode": {
    "name": "ipython",
    "version": 3
   },
   "file_extension": ".py",
   "mimetype": "text/x-python",
   "name": "python",
   "nbconvert_exporter": "python",
   "pygments_lexer": "ipython3",
   "version": "3.7.11"
  }
 },
 "nbformat": 4,
 "nbformat_minor": 5
}
